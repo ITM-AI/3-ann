{
 "cells": [
  {
   "cell_type": "markdown",
   "id": "82947365-b0b5-49b0-a40c-401d04f89cff",
   "metadata": {},
   "source": [
    "# Classes, methods and objects in Pyhton\n",
    "A class defines the structure, data and methods that an object will have. There is possible to have public and private variables to operate in the methods."
   ]
  },
  {
   "cell_type": "code",
   "execution_count": 1,
   "id": "c7b314fc-cf17-465c-a60c-8fe26f70218c",
   "metadata": {},
   "outputs": [],
   "source": [
    "# Class example for a Dog\n",
    "class Dog:\n",
    "    #initialization method with data:\n",
    "    def __init__(self, dogName, dogAge):\n",
    "        self.name=dogName\n",
    "        self.age=dogAge\n",
    "        \n",
    "    #status method:\n",
    "    def status(self):\n",
    "        print('The dogs name is', self.name)\n",
    "        print('The dogs temperature is', self.age)\n",
    "        pass\n",
    "    "
   ]
  },
  {
   "cell_type": "markdown",
   "id": "dc96eb40-6cae-4a17-b888-9007d9838e93",
   "metadata": {},
   "source": [
    "The object is an instance created from the class:"
   ]
  },
  {
   "cell_type": "code",
   "execution_count": 2,
   "id": "429fe3ba-a6b8-4fc1-81e2-5dab256e00f4",
   "metadata": {},
   "outputs": [],
   "source": [
    "cuadra = Dog('cuadradito', 9)"
   ]
  },
  {
   "cell_type": "code",
   "execution_count": 3,
   "id": "a0325424-6cd6-4677-ace5-fb489d9feca8",
   "metadata": {},
   "outputs": [
    {
     "name": "stdout",
     "output_type": "stream",
     "text": [
      "The dogs name is cuadradito\n",
      "The dogs temperature is 9\n"
     ]
    }
   ],
   "source": [
    "cuadra.status()"
   ]
  },
  {
   "cell_type": "markdown",
   "id": "88773893-2871-4235-8af3-6ce99b2c81c2",
   "metadata": {},
   "source": [
    "# The Neural Network Class\n",
    "The next chunk of code defines the Neural Network's basic structure. We are going to implement and define the methods one at tima to understand them in a better way."
   ]
  },
  {
   "cell_type": "code",
   "execution_count": 5,
   "id": "567f5cd4-cba2-46e4-a039-525ab5e4613d",
   "metadata": {},
   "outputs": [],
   "source": [
    "# neural network class definition\n",
    "class neuralNetwork:\n",
    "    # neural network initialization method\n",
    "    def __init__():\n",
    "        pass\n",
    "    # NN training method:\n",
    "    def backpropagation():\n",
    "        pass\n",
    "    # NN computing method\n",
    "    def feedforward():\n",
    "        pass"
   ]
  },
  {
   "cell_type": "markdown",
   "id": "61d128cb-ac1f-4f12-85c4-323374d0fed7",
   "metadata": {},
   "source": [
    "## Initilization or creation\n",
    "Let’s begin with the initialization. We know we need to set the number of **input, hidden and output layer nodes**. That defines the shape and size of the neural network. Thus, we’ll let them be set when a new neural network object is created by using the class' parameters. That way we retain the choice to create new neural networks of different sizes with simple methods.\n",
    "\n",
    "A good programmers, computer scientists and mathematicians, try to create more general code rather than specific code. It is a good habit, because it forces us to think about solving problems in a deeper and more general way. This means that our code can be used in more general scenarios.\n",
    "\n",
    "Then, ket us see how our code should look like:"
   ]
  },
  {
   "cell_type": "code",
   "execution_count": 7,
   "id": "32db0fe7-4568-4aa1-ac1b-7ab5c204f01d",
   "metadata": {},
   "outputs": [],
   "source": [
    "# neural network class definition\n",
    "class NeuralNetwork:\n",
    "    # neural network initialization method  <---!!!!\n",
    "    def __init__(self,inputNodes, hiddenNodes, outputNodes, learningRate):\n",
    "        #configuring the NN\n",
    "        self.inN=inputNodes\n",
    "        self.outN=outputNodes\n",
    "        self.hiddenN=hiddenNodes\n",
    "        self.lr=learningRate\n",
    "        pass\n",
    "    # NN training method:\n",
    "    def backpropagation():\n",
    "        pass\n",
    "    # NN computing method\n",
    "    def feedforward():\n",
    "        pass"
   ]
  },
  {
   "cell_type": "code",
   "execution_count": 8,
   "id": "4d6118a4-baa9-4d93-8e25-7bc34b1e0109",
   "metadata": {},
   "outputs": [],
   "source": [
    "myNN=NeuralNetwork(3,3,3,0.3)"
   ]
  },
  {
   "cell_type": "code",
   "execution_count": 9,
   "id": "2114363c-141d-4109-a0f6-48085706363e",
   "metadata": {},
   "outputs": [
    {
     "data": {
      "text/plain": [
       "__main__.NeuralNetwork"
      ]
     },
     "execution_count": 9,
     "metadata": {},
     "output_type": "execute_result"
    }
   ],
   "source": [
    "type(myNN)"
   ]
  },
  {
   "cell_type": "markdown",
   "id": "cd5cc1dc-e3fe-4c3e-a0c2-033999d0c63e",
   "metadata": {},
   "source": [
    "At this point were are only creating an object, but the `myNN` instance can't do any useful yet. **Also, this is a good technique to start coding somethig, by keeping it small at the begining (make commits), and then grow the methods**.\n",
    "\n",
    "Next, we should add more code to allow our NN class finish its initialization by creating the weight matrixes. "
   ]
  },
  {
   "cell_type": "markdown",
   "id": "4798d610-4c1c-471b-ba24-8f08d5cc9492",
   "metadata": {},
   "source": [
    "## Weigths initializations\n",
    "So the next step is to create the network of nodes and links. The most important part of the network is the link weights. They’re used to calculate the signal being fed forward, the error as it’s propagated backwards, and it is the link weights themselves that are refined in an attempt to to improve the network.\n",
    "\n",
    "For the basic NN, the weight matrix consist of:\n",
    "- A matrix that links the **input and hidden** layers, $W_{ih}$, of size hidden nodes by input nodes ($hn\\times in$)\n",
    "- and another matrix for the links between the hidden and output layers, $W_{ho}$, of size $on\\times hn$ (output nodes by hidden nodes)\n"
   ]
  },
  {
   "cell_type": "code",
   "execution_count": 13,
   "id": "2f80f572-02a1-4649-a94a-0e8eec8c0972",
   "metadata": {},
   "outputs": [],
   "source": [
    "import numpy as np\n",
    "\n",
    "# neural network class definition\n",
    "class NeuralNetwork:\n",
    "    # neural network initialization method  <---!!!!\n",
    "    def __init__(self,inputNodes, hiddenNodes, outputNodes, learningRate):\n",
    "        #configuring the NN\n",
    "        self.inN=inputNodes\n",
    "        self.outN=outputNodes\n",
    "        self.hiddenN=hiddenNodes\n",
    "        self.lr=learningRate\n",
    "        \n",
    "        #weights are W{ij} to link node i to node j in the next layer\n",
    "        #W11 W21 W31 ...\n",
    "        #W12 W22 W32 ...\n",
    "        self.wih=np.random.rand(self.hiddenN, self.inN)-0.5\n",
    "        self.who=np.random.rand(self.outN, self.hiddenN)-0.5\n",
    "        pass\n",
    "    # NN training method:\n",
    "    def backpropagation():\n",
    "        pass\n",
    "    # NN computing method\n",
    "    def feedforward():\n",
    "        pass\n",
    "    "
   ]
  },
  {
   "cell_type": "code",
   "execution_count": 14,
   "id": "9c3d56b8-f0ae-4b6c-9b35-cdb0e48785d3",
   "metadata": {},
   "outputs": [],
   "source": [
    "myNN=NeuralNetwork(3,3,3,0.3)"
   ]
  },
  {
   "cell_type": "markdown",
   "id": "2c6d18c9-d150-45d5-bbb7-bd47e351fe59",
   "metadata": {},
   "source": [
    "At this point we can review the variables or **class attributes** by calling them:"
   ]
  },
  {
   "cell_type": "code",
   "execution_count": 18,
   "id": "c321d99c-6249-47d3-819b-49e098618e25",
   "metadata": {},
   "outputs": [
    {
     "data": {
      "text/plain": [
       "array([[-0.30074632, -0.16342499, -0.02730308],\n",
       "       [-0.26705612,  0.27369997, -0.27039331],\n",
       "       [ 0.30558906,  0.4720936 ,  0.4098001 ]])"
      ]
     },
     "execution_count": 18,
     "metadata": {},
     "output_type": "execute_result"
    }
   ],
   "source": [
    "myNN.wih"
   ]
  },
  {
   "cell_type": "markdown",
   "id": "62f0098a-268c-4d31-a2ef-24ef288617ca",
   "metadata": {},
   "source": [
    "Now, we can start working in our `feedforward` method to obtain the NN's outputs with a single instance. Next, we can use this method to train the NN. "
   ]
  },
  {
   "cell_type": "markdown",
   "id": "d7b9eaac-0961-4b60-a874-243f3895c296",
   "metadata": {},
   "source": [
    "## Feedforward method"
   ]
  },
  {
   "cell_type": "markdown",
   "id": "15efb7a7-6e55-47ea-89b8-44027786253e",
   "metadata": {},
   "source": [
    "The `feedforward` method takes the input to a neural network and returns the network’s output. That’s simple enough, but to do that you’ll remember that we need to pass the input signals from the input layer of nodes, through the hidden layer and out of the final output layer. You’ll also remember that we use the link weights to moderate the signals as they feed into any given hidden or output node, and we also use the sigmoid activation function to compute the signal coming out of those nodes.\n",
    "\n",
    "The following shows how the matrix of weights for the link between the input and hidden layers can be combined with the matrix of inputs to give the signals into the hidden layer nodes:\n",
    "\n",
    "$$ Z_{h}=W_{ih}\\cdot I$$"
   ]
  },
  {
   "cell_type": "markdown",
   "id": "a6f491f0-4b75-4c83-bdce-c9aaf692c4d2",
   "metadata": {},
   "source": [
    "then, to obtain the output we need to compute the sigmoid fucntion from $Z$:\n",
    "\n",
    "$$O_h=\\sigma(Z_h)$$"
   ]
  },
  {
   "cell_type": "code",
   "execution_count": 28,
   "id": "227c9265-6d29-464c-8b32-8e14c7522599",
   "metadata": {},
   "outputs": [],
   "source": [
    "import numpy as np\n",
    "import scipy.special\n",
    "\n",
    "# neural network class definition\n",
    "class NeuralNetwork:\n",
    "    # neural network initialization method  <---!!!!\n",
    "    def __init__(self,inputNodes, hiddenNodes, outputNodes, learningRate):\n",
    "        #configuring the NN\n",
    "        self.inN=inputNodes\n",
    "        self.outN=outputNodes\n",
    "        self.hiddenN=hiddenNodes\n",
    "        self.lr=learningRate\n",
    "        \n",
    "        #weights are W{ij} to link node i to node j in the next layer\n",
    "        #W11 W21 W31 ...\n",
    "        #W12 W22 W32 ...\n",
    "        self.wih=np.random.rand(self.hiddenN, self.inN)-0.5\n",
    "        self.who=np.random.rand(self.outN, self.hiddenN)-0.5\n",
    "        pass\n",
    "    # NN training method:\n",
    "    def backpropagation():\n",
    "        pass\n",
    "    # NN computing method\n",
    "    def feedforward(self, inputList):\n",
    "        #activation function:\n",
    "        self.ActFun=lambda x:scipy.special.expit(x)\n",
    "        #converting inputs to 2d array\n",
    "        inputs=np.array(inputList, ndmin=2).T\n",
    "        \n",
    "        #computing hidden layer:\n",
    "        hInput=np.dot(self.wih,inputs)\n",
    "        hOutput=self.ActFun(hInput)\n",
    "        \n",
    "        #computing the output:\n",
    "        oInput=np.dot(self.who, hOutput)\n",
    "        oOutput=self.ActFun(oInput)\n",
    "        return oOutput"
   ]
  },
  {
   "cell_type": "code",
   "execution_count": 29,
   "id": "072f2349-9294-4308-a8d5-bd01917116da",
   "metadata": {},
   "outputs": [],
   "source": [
    "myNN=NeuralNetwork(3,3,3,0.3)"
   ]
  },
  {
   "cell_type": "code",
   "execution_count": 30,
   "id": "e12c7774-d1a5-44ef-877f-c3dd82719cc1",
   "metadata": {},
   "outputs": [
    {
     "data": {
      "text/plain": [
       "array([[0.58351172],\n",
       "       [0.37134096],\n",
       "       [0.5886667 ]])"
      ]
     },
     "execution_count": 30,
     "metadata": {},
     "output_type": "execute_result"
    }
   ],
   "source": [
    "myNN.feedforward([1.0, 0.5, -1])"
   ]
  },
  {
   "cell_type": "markdown",
   "id": "d06898af-e4e3-4458-8876-673eb262e6a2",
   "metadata": {},
   "source": [
    "## The backpropagation method"
   ]
  },
  {
   "cell_type": "code",
   "execution_count": 48,
   "id": "03b0a861-cc6c-46ac-939e-0b1a79247d42",
   "metadata": {},
   "outputs": [],
   "source": [
    "import numpy as np\n",
    "import scipy.special\n",
    "\n",
    "# neural network class definition\n",
    "class NeuralNetwork:\n",
    "    # neural network initialization method  <---!!!!\n",
    "    def __init__(self,inputNodes, hiddenNodes, outputNodes, learningRate):\n",
    "        #configuring the NN\n",
    "        self.inN=inputNodes\n",
    "        self.outN=outputNodes\n",
    "        self.hiddenN=hiddenNodes\n",
    "        self.lr=learningRate\n",
    "        \n",
    "        #weights are W{ij} to link node i to node j in the next layer\n",
    "        #W11 W21 W31 ...\n",
    "        #W12 W22 W32 ...\n",
    "        self.wih=np.random.rand(self.hiddenN, self.inN)-0.5\n",
    "        self.who=np.random.rand(self.outN, self.hiddenN)-0.5\n",
    "        pass\n",
    "    # NN training method:\n",
    "    def backpropagation(self, inputList, targetList):\n",
    "        inputs=np.array(inputList, ndmin=2).T\n",
    "        targets=np.array(targetList, ndmin=2).T\n",
    "        #######\n",
    "        self.ActFun=lambda x:scipy.special.expit(x)\n",
    "        #converting inputs to 2d array\n",
    "        inputs=np.array(inputList, ndmin=2).T\n",
    "        \n",
    "        #computing hidden layer:\n",
    "        hInput=np.dot(self.wih,inputs)\n",
    "        hOutput=self.ActFun(hInput)\n",
    "        \n",
    "        #computing the output:\n",
    "        oInput=np.dot(self.who, hOutput)\n",
    "        oOutput=self.ActFun(oInput)\n",
    "        \n",
    "        #output layer error:\n",
    "        outputE=targets-oOutput\n",
    "        #split error\n",
    "        hiddenE=np.dot(self.who.T, outputE)\n",
    "        #updating weigths\n",
    "        self.who+=self.lr*np.dot((outputE*oOutput*(1-oOutput)),np.transpose(hiddenE))\n",
    "        self.wih+=self.lr*np.dot((hiddenE*hOutput*(1-hOutput)),np.transpose(inputs))\n",
    "        pass\n",
    "    # NN computing method\n",
    "    def feedforward(self, inputList):\n",
    "        #activation function:\n",
    "        self.ActFun=lambda x:scipy.special.expit(x)\n",
    "        #converting inputs to 2d array\n",
    "        inputs=np.array(inputList, ndmin=2).T\n",
    "        \n",
    "        #computing hidden layer:\n",
    "        hInput=np.dot(self.wih,inputs)\n",
    "        hOutput=self.ActFun(hInput)\n",
    "        \n",
    "        #computing the output:\n",
    "        oInput=np.dot(self.who, hOutput)\n",
    "        oOutput=self.ActFun(oInput)\n",
    "        return oOutput"
   ]
  },
  {
   "cell_type": "code",
   "execution_count": 36,
   "id": "0732f959-3850-4b4e-a7c8-926f5c82d0fd",
   "metadata": {},
   "outputs": [],
   "source": [
    "red1=NeuralNetwork(3,3,3,0.5)"
   ]
  },
  {
   "cell_type": "code",
   "execution_count": 37,
   "id": "b05ff465-06ca-4645-be66-022e573b9a8a",
   "metadata": {},
   "outputs": [],
   "source": [
    "red1.backpropagation([1,0.5,3],[0.3,0.5,0.7])"
   ]
  },
  {
   "cell_type": "markdown",
   "id": "d9cf150d-d49c-4d57-ad9e-60d73f536cb7",
   "metadata": {},
   "source": [
    "# MNIST data set\n",
    "The MNIST database of handwritten digits, [available from this page](http://yann.lecun.com/exdb/mnist/), has a training set of 60,000 examples, and a test set of 10,000 examples. It is a subset of a larger set available from NIST. The digits have been size-normalized and centered in a fixed-size image.\n",
    "\n",
    "It is a good database for people who want to try learning techniques and pattern recognition methods on real-world data while spending minimal efforts on preprocessing and formatting.\n",
    "\n",
    "The original black and white (bilevel) images from NIST were size normalized to fit in a 20x20 pixel box while preserving their aspect ratio. The resulting images contain grey levels as a result of the anti-aliasing technique used by the normalization algorithm. the images were centered in a 28x28 image by computing the center of mass of the pixels, and translating the image so as to position this point at the center of the 28x28 field.\n",
    "\n"
   ]
  },
  {
   "cell_type": "code",
   "execution_count": 42,
   "id": "d13a0e3c-981b-4646-b11a-276029cf7d96",
   "metadata": {},
   "outputs": [],
   "source": [
    "data_file= open(\"mnist_train.csv\", 'r')\n",
    "data_list= data_file.readlines()\n",
    "data_file.close()"
   ]
  },
  {
   "cell_type": "code",
   "execution_count": 45,
   "id": "65d7a952-c7fc-4971-a637-60ae42eb0f44",
   "metadata": {},
   "outputs": [
    {
     "data": {
      "text/plain": [
       "<matplotlib.image.AxesImage at 0x7fae9ee83a90>"
      ]
     },
     "execution_count": 45,
     "metadata": {},
     "output_type": "execute_result"
    },
    {
     "data": {
      "image/png": "[encoded data removed]",
      "text/plain": [
       "<Figure size 432x288 with 1 Axes>"
      ]
     },
     "metadata": {
      "needs_background": "light"
     },
     "output_type": "display_data"
    }
   ],
   "source": [
    "import numpy as np\n",
    "import matplotlib.pyplot as plt\n",
    "all_values= data_list[2].split(',')\n",
    "image_array= np.asfarray(all_values[1:]).reshape((28,28))\n",
    "plt.imshow(image_array, cmap='Greys',interpolation='None')"
   ]
  },
  {
   "cell_type": "code",
   "execution_count": 47,
   "id": "a2af4544-32e4-440c-a7ca-413cd62fb7df",
   "metadata": {},
   "outputs": [
    {
     "data": {
      "text/plain": [
       "[<matplotlib.lines.Line2D at 0x7fae9ee149d0>]"
      ]
     },
     "execution_count": 47,
     "metadata": {},
     "output_type": "execute_result"
    },
    {
     "data": {
      "image/png": "[encoded data removed]",
      "text/plain": [
       "<Figure size 432x288 with 1 Axes>"
      ]
     },
     "metadata": {
      "needs_background": "light"
     },
     "output_type": "display_data"
    }
   ],
   "source": [
    "plt.plot(np.asfarray(all_values[1:]), '.k')"
   ]
  },
  {
   "cell_type": "markdown",
   "id": "2e842fb8-6fa1-4166-96b7-2cfa2ea353d3",
   "metadata": {},
   "source": [
    "# The ANN for MNIST data"
   ]
  },
  {
   "cell_type": "code",
   "execution_count": 79,
   "id": "576bb7ec-275a-4709-8efe-354c0749f637",
   "metadata": {},
   "outputs": [],
   "source": [
    "# number of input, hidden and output nodes\n",
    "input_nodes = 784\n",
    "hidden_nodes = 100\n",
    "output_nodes = 10\n",
    "\n",
    "# learning rate\n",
    "learning_rate = 0.1\n",
    "\n",
    "# create instance of neural network\n",
    "nn1 = NeuralNetwork(input_nodes,hidden_nodes,output_nodes, learning_rate)"
   ]
  },
  {
   "cell_type": "code",
   "execution_count": 80,
   "id": "64db80f0-0d25-4f0e-80a0-467924e45cbc",
   "metadata": {},
   "outputs": [],
   "source": [
    "# train the neural network\n",
    "\n",
    "# epochs is the number of times the training data set is used for training\n",
    "epochs = 10\n",
    "\n",
    "for e in range(epochs):\n",
    "    # go through all records in the training data set\n",
    "    for record in data_list:\n",
    "        # split the record by the ',' commas\n",
    "        all_values = record.split(',')\n",
    "        # scale and shift the inputs\n",
    "        inputs = (np.asfarray(all_values[1:]) / 255.0 * 0.99) + 0.01\n",
    "        # create the target output values (all 0.01, except the desired label which is 0.99)\n",
    "        targets = np.zeros(output_nodes) + 0.01\n",
    "        # all_values[0] is the target label for this record\n",
    "        targets[int(all_values[0])] = 0.99\n",
    "        nn1.backpropagation(inputs, targets)\n",
    "        pass\n",
    "    pass"
   ]
  },
  {
   "cell_type": "code",
   "execution_count": 92,
   "id": "0c75a2ef-7957-4af8-ab16-ac1f92b3d8c8",
   "metadata": {},
   "outputs": [],
   "source": [
    "# load the mnist test data CSV file into a list\n",
    "test_data_file = open(\"mnist_test.csv\", 'r')\n",
    "test_data_list = test_data_file.readlines()\n",
    "test_data_file.close()"
   ]
  },
  {
   "cell_type": "code",
   "execution_count": 95,
   "id": "c7d68d65-ee05-4302-ba0e-4dd2cce822a4",
   "metadata": {},
   "outputs": [
    {
     "data": {
      "text/plain": [
       "<matplotlib.image.AxesImage at 0x7fae9e918bb0>"
      ]
     },
     "execution_count": 95,
     "metadata": {},
     "output_type": "execute_result"
    },
    {
     "data": {
      "image/png": "[encoded data removed]",
      "text/plain": [
       "<Figure size 432x288 with 1 Axes>"
      ]
     },
     "metadata": {
      "needs_background": "light"
     },
     "output_type": "display_data"
    }
   ],
   "source": [
    "all_values= test_data_list[4].split(',')\n",
    "image_array= np.asfarray(all_values[1:]).reshape((28,28))\n",
    "plt.imshow(image_array, cmap='Greys',interpolation='None')"
   ]
  },
  {
   "cell_type": "code",
   "execution_count": 96,
   "id": "4387f872-d5b6-438c-af8a-e1e6c54aa4de",
   "metadata": {},
   "outputs": [
    {
     "data": {
      "text/plain": [
       "array([[4.21194730e-07],\n",
       "       [2.58694919e-11],\n",
       "       [3.09152752e-12],\n",
       "       [1.18559956e-21],\n",
       "       [1.90577835e-30],\n",
       "       [9.08318920e-34],\n",
       "       [5.64631944e-10],\n",
       "       [3.42005457e-18],\n",
       "       [6.10337091e-17],\n",
       "       [1.00000000e+00]])"
      ]
     },
     "execution_count": 96,
     "metadata": {},
     "output_type": "execute_result"
    }
   ],
   "source": [
    "nn1.feedforward((np.asfarray(all_values[1:])/255.0*0.99)+0.01)"
   ]
  },
  {
   "cell_type": "code",
   "execution_count": null,
   "id": "982d8a61-7653-4c1c-a86a-93ca97ee8e75",
   "metadata": {},
   "outputs": [],
   "source": []
  }
 ],
 "metadata": {
  "kernelspec": {
   "display_name": "Python 3 (ipykernel)",
   "language": "python",
   "name": "python3"
  },
  "language_info": {
   "codemirror_mode": {
    "name": "ipython",
    "version": 3
   },
   "file_extension": ".py",
   "mimetype": "text/x-python",
   "name": "python",
   "nbconvert_exporter": "python",
   "pygments_lexer": "ipython3",
   "version": "3.8.10"
  }
 },
 "nbformat": 4,
 "nbformat_minor": 5
}
